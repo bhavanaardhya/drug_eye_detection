{
 "cells": [
  {
   "cell_type": "code",
   "execution_count": null,
   "id": "a14652c7-0c4d-4663-999b-e2998248fcc5",
   "metadata": {},
   "outputs": [],
   "source": [
    "from tensorflow.keras.applications import ResNet50\n",
    "from tensorflow.keras.layers import Flatten, Dense\n",
    "from tensorflow.keras.models import Model\n",
    "from tensorflow.keras.preprocessing.image import ImageDataGenerator\n",
    "from tensorflow.keras.applications.resnet50 import preprocess_input\n",
    "\n",
    "def fine_tune_model(train_dir, val_dir, test_dir):\n",
    "    # Load pre-trained ResNet50 model\n",
    "    base_model = ResNet50(weights='imagenet', include_top=False, input_shape=(224, 224, 3))\n",
    "\n",
    "    # Freeze pre-trained layers\n",
    "    for layer in base_model.layers[:-4]:\n",
    "        layer.trainable = False\n",
    "\n",
    "    # Define custom classification layers\n",
    "    flat = Flatten()(base_model.output)\n",
    "    output = Dense(1, activation='sigmoid')(flat)\n",
    "\n",
    "    # Create the fine-tuned model\n",
    "    fine_tuned_model = Model(inputs=base_model.inputs, outputs=output)\n",
    "\n",
    "    # Compile the model\n",
    "    fine_tuned_model.compile(optimizer='adam', loss='binary_crossentropy', metrics=['accuracy'])\n",
    "\n",
    "    # Define data generators\n",
    "    train_datagen = ImageDataGenerator(preprocessing_function=preprocess_input)\n",
    "    val_datagen = ImageDataGenerator(preprocessing_function=preprocess_input)\n",
    "    test_datagen = ImageDataGenerator(preprocessing_function=preprocess_input)\n",
    "\n",
    "    # Fine-tune the model\n",
    "    train_generator = train_datagen.flow_from_directory(\n",
    "        train_dir, target_size=(224, 224), batch_size=32, class_mode='binary', classes=['Normal_Eyes', 'drugged_eyes']\n",
    "    )\n",
    "    val_generator = val_datagen.flow_from_directory(\n",
    "        val_dir, target_size=(224, 224), batch_size=32, class_mode='binary', classes=['Normal_Eyes', 'drugged_eyes']\n",
    "    )\n",
    "    test_generator = test_datagen.flow_from_directory(\n",
    "        test_dir, target_size=(224, 224), batch_size=32, class_mode='binary', classes=['Normal_Eyes', 'drugged_eyes']\n",
    "    )\n",
    "\n",
    "    # Train the model\n",
    "    fine_tuned_model.fit(train_generator, validation_data=val_generator, epochs=15)\n",
    "\n",
    "    # Evaluate the model on the test set\n",
    "    test_loss, test_accuracy = fine_tuned_model.evaluate(test_generator)\n",
    "    print(f'Test accuracy: {test_accuracy:.2f}')\n",
    "\n",
    "    # Save the model\n",
    "    fine_tuned_model.save('trained.h5')\n",
    "\n"
   ]
  },
  {
   "cell_type": "code",
   "execution_count": null,
   "id": "31a6dbec-81a8-4075-9383-68b170c69dd2",
   "metadata": {},
   "outputs": [],
   "source": [
    "if __name__ == \"__main__\":\n",
    "    # Path to your dataset directories\n",
    "    train_dir = 'Dataset/train'\n",
    "    val_dir = 'Dataset/valid'\n",
    "    test_dir = 'Dataset/test'\n",
    "\n",
    "    # Fine-tune the model\n",
    "    fine_tune_model(train_dir, val_dir, test_dir)"
   ]
  },
  {
   "cell_type": "code",
   "execution_count": null,
   "id": "3e7d3bdc-2ea1-487b-a06c-0be56f65babf",
   "metadata": {},
   "outputs": [],
   "source": []
  }
 ],
 "metadata": {
  "kernelspec": {
   "display_name": "Python 3 (ipykernel)",
   "language": "python",
   "name": "python3"
  },
  "language_info": {
   "codemirror_mode": {
    "name": "ipython",
    "version": 3
   },
   "file_extension": ".py",
   "mimetype": "text/x-python",
   "name": "python",
   "nbconvert_exporter": "python",
   "pygments_lexer": "ipython3",
   "version": "3.11.5"
  }
 },
 "nbformat": 4,
 "nbformat_minor": 5
}
