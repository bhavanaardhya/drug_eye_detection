{
 "cells": [
  {
   "cell_type": "code",
   "execution_count": 1,
   "id": "a14652c7-0c4d-4663-999b-e2998248fcc5",
   "metadata": {},
   "outputs": [],
   "source": [
    "from tensorflow.keras.applications import ResNet50\n",
    "from tensorflow.keras.layers import Flatten, Dense\n",
    "from tensorflow.keras.models import Model\n",
    "from tensorflow.keras.preprocessing.image import ImageDataGenerator\n",
    "from tensorflow.keras.applications.resnet50 import preprocess_input\n",
    "\n",
    "def fine_tune_model(train_dir, val_dir, test_dir):\n",
    "    # Load pre-trained ResNet50 model\n",
    "    base_model = ResNet50(weights='imagenet', include_top=False, input_shape=(224, 224, 3))\n",
    "\n",
    "    # Freeze pre-trained layers\n",
    "    for layer in base_model.layers[:-4]:\n",
    "        layer.trainable = False\n",
    "\n",
    "    # Define custom classification layers\n",
    "    flat = Flatten()(base_model.output)\n",
    "    output = Dense(1, activation='sigmoid')(flat)\n",
    "\n",
    "    # Create the fine-tuned model\n",
    "    fine_tuned_model = Model(inputs=base_model.inputs, outputs=output)\n",
    "\n",
    "    # Compile the model\n",
    "    fine_tuned_model.compile(optimizer='adam', loss='binary_crossentropy', metrics=['accuracy'])\n",
    "\n",
    "    # Define data generators\n",
    "    train_datagen = ImageDataGenerator(preprocessing_function=preprocess_input)\n",
    "    val_datagen = ImageDataGenerator(preprocessing_function=preprocess_input)\n",
    "    test_datagen = ImageDataGenerator(preprocessing_function=preprocess_input)\n",
    "\n",
    "    # Fine-tune the model\n",
    "    train_generator = train_datagen.flow_from_directory(\n",
    "        train_dir, target_size=(224, 224), batch_size=32, class_mode='binary', classes=['Normal_Eyes', 'drugged_eyes']\n",
    "    )\n",
    "    val_generator = val_datagen.flow_from_directory(\n",
    "        val_dir, target_size=(224, 224), batch_size=32, class_mode='binary', classes=['Normal_Eyes', 'drugged_eyes']\n",
    "    )\n",
    "    test_generator = test_datagen.flow_from_directory(\n",
    "        test_dir, target_size=(224, 224), batch_size=32, class_mode='binary', classes=['Normal_Eyes', 'drugged_eyes']\n",
    "    )\n",
    "\n",
    "    # Train the model\n",
    "    fine_tuned_model.fit(train_generator, validation_data=val_generator, epochs=15)\n",
    "\n",
    "    # Evaluate the model on the test set\n",
    "    test_loss, test_accuracy = fine_tuned_model.evaluate(test_generator)\n",
    "    print(f'Test accuracy: {test_accuracy:.2f}')\n",
    "\n",
    "    # Save the model\n",
    "    fine_tuned_model.save('trained.h5')\n",
    "\n"
   ]
  },
  {
   "cell_type": "code",
   "execution_count": 2,
   "id": "31a6dbec-81a8-4075-9383-68b170c69dd2",
   "metadata": {},
   "outputs": [
    {
     "name": "stdout",
     "output_type": "stream",
     "text": [
      "Found 472 images belonging to 2 classes.\n",
      "Found 97 images belonging to 2 classes.\n",
      "Found 146 images belonging to 2 classes.\n",
      "Epoch 1/15\n"
     ]
    },
    {
     "name": "stderr",
     "output_type": "stream",
     "text": [
      "C:\\Users\\chait\\AppData\\Local\\Programs\\Python\\Python311\\Lib\\site-packages\\keras\\src\\trainers\\data_adapters\\py_dataset_adapter.py:121: UserWarning: Your `PyDataset` class should call `super().__init__(**kwargs)` in its constructor. `**kwargs` can include `workers`, `use_multiprocessing`, `max_queue_size`. Do not pass these arguments to `fit()`, as they will be ignored.\n",
      "  self._warn_if_super_not_called()\n"
     ]
    },
    {
     "name": "stdout",
     "output_type": "stream",
     "text": [
      "\u001b[1m15/15\u001b[0m \u001b[32m━━━━━━━━━━━━━━━━━━━━\u001b[0m\u001b[37m\u001b[0m \u001b[1m105s\u001b[0m 6s/step - accuracy: 0.8025 - loss: 2.6422 - val_accuracy: 0.8351 - val_loss: 1.9066\n",
      "Epoch 2/15\n",
      "\u001b[1m15/15\u001b[0m \u001b[32m━━━━━━━━━━━━━━━━━━━━\u001b[0m\u001b[37m\u001b[0m \u001b[1m110s\u001b[0m 7s/step - accuracy: 0.9644 - loss: 0.2318 - val_accuracy: 0.5464 - val_loss: 10.3105\n",
      "Epoch 3/15\n",
      "\u001b[1m15/15\u001b[0m \u001b[32m━━━━━━━━━━━━━━━━━━━━\u001b[0m\u001b[37m\u001b[0m \u001b[1m82s\u001b[0m 6s/step - accuracy: 0.9918 - loss: 0.0264 - val_accuracy: 0.7320 - val_loss: 5.3500\n",
      "Epoch 4/15\n",
      "\u001b[1m15/15\u001b[0m \u001b[32m━━━━━━━━━━━━━━━━━━━━\u001b[0m\u001b[37m\u001b[0m \u001b[1m81s\u001b[0m 5s/step - accuracy: 0.9974 - loss: 0.0031 - val_accuracy: 0.7320 - val_loss: 5.5083\n",
      "Epoch 5/15\n",
      "\u001b[1m15/15\u001b[0m \u001b[32m━━━━━━━━━━━━━━━━━━━━\u001b[0m\u001b[37m\u001b[0m \u001b[1m76s\u001b[0m 5s/step - accuracy: 1.0000 - loss: 5.9418e-04 - val_accuracy: 0.7835 - val_loss: 4.0943\n",
      "Epoch 6/15\n",
      "\u001b[1m15/15\u001b[0m \u001b[32m━━━━━━━━━━━━━━━━━━━━\u001b[0m\u001b[37m\u001b[0m \u001b[1m82s\u001b[0m 5s/step - accuracy: 1.0000 - loss: 2.4612e-06 - val_accuracy: 0.8144 - val_loss: 3.6231\n",
      "Epoch 7/15\n",
      "\u001b[1m15/15\u001b[0m \u001b[32m━━━━━━━━━━━━━━━━━━━━\u001b[0m\u001b[37m\u001b[0m \u001b[1m75s\u001b[0m 5s/step - accuracy: 1.0000 - loss: 2.0648e-05 - val_accuracy: 0.8144 - val_loss: 3.4331\n",
      "Epoch 8/15\n",
      "\u001b[1m15/15\u001b[0m \u001b[32m━━━━━━━━━━━━━━━━━━━━\u001b[0m\u001b[37m\u001b[0m \u001b[1m77s\u001b[0m 5s/step - accuracy: 1.0000 - loss: 2.4748e-06 - val_accuracy: 0.8247 - val_loss: 3.3104\n",
      "Epoch 9/15\n",
      "\u001b[1m15/15\u001b[0m \u001b[32m━━━━━━━━━━━━━━━━━━━━\u001b[0m\u001b[37m\u001b[0m \u001b[1m78s\u001b[0m 5s/step - accuracy: 1.0000 - loss: 5.5523e-06 - val_accuracy: 0.8351 - val_loss: 3.2066\n",
      "Epoch 10/15\n",
      "\u001b[1m15/15\u001b[0m \u001b[32m━━━━━━━━━━━━━━━━━━━━\u001b[0m\u001b[37m\u001b[0m \u001b[1m76s\u001b[0m 5s/step - accuracy: 1.0000 - loss: 7.3977e-06 - val_accuracy: 0.8351 - val_loss: 3.1356\n",
      "Epoch 11/15\n",
      "\u001b[1m15/15\u001b[0m \u001b[32m━━━━━━━━━━━━━━━━━━━━\u001b[0m\u001b[37m\u001b[0m \u001b[1m72s\u001b[0m 5s/step - accuracy: 1.0000 - loss: 1.2127e-05 - val_accuracy: 0.8351 - val_loss: 3.0835\n",
      "Epoch 12/15\n",
      "\u001b[1m15/15\u001b[0m \u001b[32m━━━━━━━━━━━━━━━━━━━━\u001b[0m\u001b[37m\u001b[0m \u001b[1m75s\u001b[0m 5s/step - accuracy: 1.0000 - loss: 5.4807e-06 - val_accuracy: 0.8351 - val_loss: 3.0325\n",
      "Epoch 13/15\n",
      "\u001b[1m15/15\u001b[0m \u001b[32m━━━━━━━━━━━━━━━━━━━━\u001b[0m\u001b[37m\u001b[0m \u001b[1m75s\u001b[0m 5s/step - accuracy: 1.0000 - loss: 2.4543e-06 - val_accuracy: 0.8351 - val_loss: 2.9931\n",
      "Epoch 14/15\n",
      "\u001b[1m15/15\u001b[0m \u001b[32m━━━━━━━━━━━━━━━━━━━━\u001b[0m\u001b[37m\u001b[0m \u001b[1m75s\u001b[0m 5s/step - accuracy: 1.0000 - loss: 3.6659e-06 - val_accuracy: 0.8351 - val_loss: 2.9641\n",
      "Epoch 15/15\n",
      "\u001b[1m15/15\u001b[0m \u001b[32m━━━━━━━━━━━━━━━━━━━━\u001b[0m\u001b[37m\u001b[0m \u001b[1m81s\u001b[0m 5s/step - accuracy: 1.0000 - loss: 4.0369e-06 - val_accuracy: 0.8351 - val_loss: 2.9483\n",
      "\u001b[1m5/5\u001b[0m \u001b[32m━━━━━━━━━━━━━━━━━━━━\u001b[0m\u001b[37m\u001b[0m \u001b[1m18s\u001b[0m 4s/step - accuracy: 0.9068 - loss: 1.4623\n"
     ]
    },
    {
     "name": "stderr",
     "output_type": "stream",
     "text": [
      "WARNING:absl:You are saving your model as an HDF5 file via `model.save()` or `keras.saving.save_model(model)`. This file format is considered legacy. We recommend using instead the native Keras format, e.g. `model.save('my_model.keras')` or `keras.saving.save_model(model, 'my_model.keras')`. \n"
     ]
    },
    {
     "name": "stdout",
     "output_type": "stream",
     "text": [
      "Test accuracy: 0.90\n"
     ]
    }
   ],
   "source": [
    "if __name__ == \"__main__\":\n",
    "    # Path to your dataset directories\n",
    "    train_dir = 'Dataset/train'\n",
    "    val_dir = 'Dataset/valid'\n",
    "    test_dir = 'Dataset/test'\n",
    "\n",
    "    # Fine-tune the model\n",
    "    fine_tune_model(train_dir, val_dir, test_dir)"
   ]
  },
  {
   "cell_type": "code",
   "execution_count": null,
   "id": "3e7d3bdc-2ea1-487b-a06c-0be56f65babf",
   "metadata": {},
   "outputs": [],
   "source": []
  }
 ],
 "metadata": {
  "kernelspec": {
   "display_name": "Python 3 (ipykernel)",
   "language": "python",
   "name": "python3"
  },
  "language_info": {
   "codemirror_mode": {
    "name": "ipython",
    "version": 3
   },
   "file_extension": ".py",
   "mimetype": "text/x-python",
   "name": "python",
   "nbconvert_exporter": "python",
   "pygments_lexer": "ipython3",
   "version": "3.11.5"
  }
 },
 "nbformat": 4,
 "nbformat_minor": 5
}
